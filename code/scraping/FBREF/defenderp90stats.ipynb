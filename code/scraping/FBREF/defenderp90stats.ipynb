{
 "cells": [
  {
   "cell_type": "code",
   "execution_count": null,
   "metadata": {},
   "outputs": [],
   "source": [
    "import pandas as pd\n",
    "import requests\n",
    "import time\n",
    "from selenium import webdriver\n",
    "from selenium.webdriver.common.by import By\n",
    "from selenium.webdriver.chrome.options import Options\n",
    "from selenium.webdriver.support.ui import WebDriverWait\n",
    "from selenium.webdriver.support import expected_conditions as EC\n",
    "options = Options()\n",
    "options.add_argument(\"--disable-notifications\")\n",
    "options.add_argument(\"--disable-popup-blocking\")\n",
    "driver = webdriver.Chrome(options=options)"
   ]
  },
  {
   "cell_type": "code",
   "execution_count": null,
   "metadata": {},
   "outputs": [],
   "source": [
    "standings_url = 'https://fbref.com/en/comps/12/La-Liga-Stats'"
   ]
  },
  {
   "cell_type": "code",
   "execution_count": null,
   "metadata": {},
   "outputs": [],
   "source": [
    "data = requests.get(standings_url)"
   ]
  },
  {
   "cell_type": "code",
   "execution_count": null,
   "metadata": {},
   "outputs": [],
   "source": [
    "from bs4 import BeautifulSoup"
   ]
  },
  {
   "cell_type": "code",
   "execution_count": null,
   "metadata": {},
   "outputs": [],
   "source": [
    "soup = BeautifulSoup(data.text)\n",
    "standings_table = soup.select('table.stats_table')[0] #css selector to select table with class name stats_table\n",
    "\n",
    "links = [l.get('href') for l in standings_table.find_all('a')]\n",
    "links = [l for l in links if '/squads/' in l]  #only want the links with /squads/ in it\n",
    "team_urls = [f\"https://fbref.com{l}\" for l in links] #create list of all the teams urls/links\n",
    "team_urls"
   ]
  },
  {
   "cell_type": "code",
   "execution_count": null,
   "metadata": {},
   "outputs": [],
   "source": [
    "all_players=[]\n",
    "\n",
    "for team_url in team_urls:\n",
    "    driver.get(team_url)    \n",
    "    time.sleep(2)\n",
    "\n",
    "    try:\n",
    "        driver.find_element(By.CSS_SELECTOR, 'button[mode=primary]').click()\n",
    "    except Exception:\n",
    "        pass\n",
    "\n",
    "    time.sleep(2)\n",
    "    togglep90 =  WebDriverWait(driver, 20).until(EC.element_to_be_clickable((By.CSS_SELECTOR, \"button[id*='stats_defense_']\")))\n",
    "    tablename = driver.find_element(By.ID, \"all_stats_defense\")\n",
    "    driver.execute_script(\"arguments[0].scrollIntoView();\", tablename)\n",
    "\n",
    "    time.sleep(2)\n",
    "    togglep90.click()\n",
    "\n",
    "    page_source = BeautifulSoup(driver.page_source, 'html.parser')\n",
    "    tables = page_source.findAll('table', id=lambda x: x and x.startswith('stats_defense'))[0]\n",
    "    defensivePlayerActions = pd.read_html(str(tables))[0]\n",
    "    all_players.append(defensivePlayerActions)\n",
    "\n",
    "driver.quit()\n"
   ]
  },
  {
   "cell_type": "code",
   "execution_count": null,
   "metadata": {},
   "outputs": [],
   "source": [
    "df = pd.concat(all_players)"
   ]
  },
  {
   "cell_type": "code",
   "execution_count": null,
   "metadata": {},
   "outputs": [],
   "source": [
    "df.columns = ['_'.join(col).strip() for col in df.columns.values]"
   ]
  },
  {
   "cell_type": "code",
   "execution_count": null,
   "metadata": {},
   "outputs": [],
   "source": [
    "df = df.drop([\"Challenges_Tkl\", \"Challenges_Att\", \"Challenges_Tkl%\", \"Challenges_Lost\", \"Unnamed: 21_level_0_Matches\"], axis=1)"
   ]
  },
  {
   "cell_type": "code",
   "execution_count": null,
   "metadata": {},
   "outputs": [],
   "source": [
    "df"
   ]
  },
  {
   "cell_type": "code",
   "execution_count": null,
   "metadata": {},
   "outputs": [],
   "source": [
    "df = df.set_index(\"Unnamed: 0_level_0_Player\")\n",
    "df = df.drop([\"Squad Total\", \"Opponent Total\"])\n",
    "df = df.reset_index()\n",
    "df\n"
   ]
  },
  {
   "cell_type": "code",
   "execution_count": null,
   "metadata": {},
   "outputs": [],
   "source": [
    "df = df[df[\"Unnamed: 2_level_0_Pos\"]== \"DF\"]\n",
    "df = df.reset_index()\n",
    "df = df.drop(\"index\", axis=1)\n",
    "df"
   ]
  },
  {
   "cell_type": "code",
   "execution_count": null,
   "metadata": {},
   "outputs": [],
   "source": [
    "df.columns = ['Player', 'Nation', 'Position', 'Age', '90s', 'Tackles', 'TacklesWon', 'TacklesDef3rd',\n",
    "'TacklesMid3rd', 'TacklesAtt3rd', 'Blocks', 'ShotsBlocked', 'PassesBlocked', 'Intercptions', 'Tkl+Int', 'Clearances', 'Errors']"
   ]
  },
  {
   "cell_type": "code",
   "execution_count": null,
   "metadata": {},
   "outputs": [],
   "source": [
    "df"
   ]
  },
  {
   "cell_type": "code",
   "execution_count": null,
   "metadata": {},
   "outputs": [],
   "source": [
    "df.to_csv(\"LaLigadefenderP90.csv\")"
   ]
  }
 ],
 "metadata": {
  "kernelspec": {
   "display_name": "Python 3",
   "language": "python",
   "name": "python3"
  },
  "language_info": {
   "codemirror_mode": {
    "name": "ipython",
    "version": 3
   },
   "file_extension": ".py",
   "mimetype": "text/x-python",
   "name": "python",
   "nbconvert_exporter": "python",
   "pygments_lexer": "ipython3",
   "version": "3.12.3"
  },
  "orig_nbformat": 4
 },
 "nbformat": 4,
 "nbformat_minor": 2
}
