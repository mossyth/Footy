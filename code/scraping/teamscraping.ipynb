{
 "cells": [
  {
   "cell_type": "code",
   "execution_count": 191,
   "metadata": {},
   "outputs": [],
   "source": [
    "import pandas as pd\n",
    "import requests\n",
    "import time\n",
    "from selenium import webdriver\n",
    "from selenium.webdriver.common.by import By\n",
    "from selenium.webdriver.chrome.options import Options\n",
    "from selenium.webdriver.support.ui import WebDriverWait\n",
    "from selenium.webdriver.support import expected_conditions as EC"
   ]
  },
  {
   "cell_type": "code",
   "execution_count": 192,
   "metadata": {},
   "outputs": [],
   "source": [
    "options = Options()\n",
    "options.add_argument(\"--disable-notifications\")\n",
    "options.add_argument(\"--disable-popup-blocking\")\n",
    "driver = webdriver.Chrome(options=options)"
   ]
  },
  {
   "cell_type": "code",
   "execution_count": 193,
   "metadata": {},
   "outputs": [],
   "source": [
    "arsenal_url = 'https://fbref.com/en/squads/18bb7c10/Arsenal-Stats'"
   ]
  },
  {
   "cell_type": "code",
   "execution_count": 194,
   "metadata": {},
   "outputs": [],
   "source": [
    "data = requests.get(arsenal_url)"
   ]
  },
  {
   "cell_type": "code",
   "execution_count": 195,
   "metadata": {},
   "outputs": [],
   "source": [
    "from bs4 import BeautifulSoup"
   ]
  },
  {
   "cell_type": "code",
   "execution_count": 196,
   "metadata": {},
   "outputs": [],
   "source": [
    "soup = BeautifulSoup(data.text)"
   ]
  },
  {
   "cell_type": "code",
   "execution_count": 197,
   "metadata": {},
   "outputs": [
    {
     "data": {
      "text/plain": [
       "[2024, 2023]"
      ]
     },
     "execution_count": 197,
     "metadata": {},
     "output_type": "execute_result"
    }
   ],
   "source": [
    "years = list(range(2024, 2022, -1))\n",
    "years"
   ]
  },
  {
   "cell_type": "code",
   "execution_count": 206,
   "metadata": {},
   "outputs": [
    {
     "data": {
      "text/plain": [
       "list"
      ]
     },
     "execution_count": 206,
     "metadata": {},
     "output_type": "execute_result"
    }
   ],
   "source": [
    "keepers=[]\n",
    "defenders=[]\n",
    "midfielders=[]\n",
    "attackers=[]\n",
    "all_positions = [keepers, defenders, midfielders, attackers]\n",
    "type(all_positions)\n",
    "\n"
   ]
  },
  {
   "cell_type": "code",
   "execution_count": 207,
   "metadata": {},
   "outputs": [
    {
     "name": "stderr",
     "output_type": "stream",
     "text": [
      "C:\\Users\\tomas.hehir\\AppData\\Local\\Temp\\ipykernel_16380\\1993140052.py:39: FutureWarning: Passing literal html to 'read_html' is deprecated and will be removed in a future version. To read from a literal string, wrap it in a 'StringIO' object.\n",
      "  d[stat] = pd.read_html(str(tables))[0]\n",
      "C:\\Users\\tomas.hehir\\AppData\\Local\\Temp\\ipykernel_16380\\1993140052.py:39: FutureWarning: Passing literal html to 'read_html' is deprecated and will be removed in a future version. To read from a literal string, wrap it in a 'StringIO' object.\n",
      "  d[stat] = pd.read_html(str(tables))[0]\n",
      "C:\\Users\\tomas.hehir\\AppData\\Local\\Temp\\ipykernel_16380\\1993140052.py:39: FutureWarning: Passing literal html to 'read_html' is deprecated and will be removed in a future version. To read from a literal string, wrap it in a 'StringIO' object.\n",
      "  d[stat] = pd.read_html(str(tables))[0]\n",
      "C:\\Users\\tomas.hehir\\AppData\\Local\\Temp\\ipykernel_16380\\1993140052.py:39: FutureWarning: Passing literal html to 'read_html' is deprecated and will be removed in a future version. To read from a literal string, wrap it in a 'StringIO' object.\n",
      "  d[stat] = pd.read_html(str(tables))[0]\n",
      "C:\\Users\\tomas.hehir\\AppData\\Local\\Temp\\ipykernel_16380\\1993140052.py:39: FutureWarning: Passing literal html to 'read_html' is deprecated and will be removed in a future version. To read from a literal string, wrap it in a 'StringIO' object.\n",
      "  d[stat] = pd.read_html(str(tables))[0]\n",
      "C:\\Users\\tomas.hehir\\AppData\\Local\\Temp\\ipykernel_16380\\1993140052.py:39: FutureWarning: Passing literal html to 'read_html' is deprecated and will be removed in a future version. To read from a literal string, wrap it in a 'StringIO' object.\n",
      "  d[stat] = pd.read_html(str(tables))[0]\n",
      "C:\\Users\\tomas.hehir\\AppData\\Local\\Temp\\ipykernel_16380\\1993140052.py:39: FutureWarning: Passing literal html to 'read_html' is deprecated and will be removed in a future version. To read from a literal string, wrap it in a 'StringIO' object.\n",
      "  d[stat] = pd.read_html(str(tables))[0]\n",
      "C:\\Users\\tomas.hehir\\AppData\\Local\\Temp\\ipykernel_16380\\1993140052.py:39: FutureWarning: Passing literal html to 'read_html' is deprecated and will be removed in a future version. To read from a literal string, wrap it in a 'StringIO' object.\n",
      "  d[stat] = pd.read_html(str(tables))[0]\n",
      "C:\\Users\\tomas.hehir\\AppData\\Local\\Temp\\ipykernel_16380\\1993140052.py:39: FutureWarning: Passing literal html to 'read_html' is deprecated and will be removed in a future version. To read from a literal string, wrap it in a 'StringIO' object.\n",
      "  d[stat] = pd.read_html(str(tables))[0]\n",
      "C:\\Users\\tomas.hehir\\AppData\\Local\\Temp\\ipykernel_16380\\1993140052.py:39: FutureWarning: Passing literal html to 'read_html' is deprecated and will be removed in a future version. To read from a literal string, wrap it in a 'StringIO' object.\n",
      "  d[stat] = pd.read_html(str(tables))[0]\n",
      "C:\\Users\\tomas.hehir\\AppData\\Local\\Temp\\ipykernel_16380\\1993140052.py:39: FutureWarning: Passing literal html to 'read_html' is deprecated and will be removed in a future version. To read from a literal string, wrap it in a 'StringIO' object.\n",
      "  d[stat] = pd.read_html(str(tables))[0]\n",
      "C:\\Users\\tomas.hehir\\AppData\\Local\\Temp\\ipykernel_16380\\1993140052.py:39: FutureWarning: Passing literal html to 'read_html' is deprecated and will be removed in a future version. To read from a literal string, wrap it in a 'StringIO' object.\n",
      "  d[stat] = pd.read_html(str(tables))[0]\n"
     ]
    }
   ],
   "source": [
    "for year in years:\n",
    "    driver.get(arsenal_url)    \n",
    "    time.sleep(2)\n",
    "\n",
    "    try:\n",
    "        driver.find_element(By.CSS_SELECTOR, 'button[mode=primary]').click()\n",
    "    except Exception:\n",
    "        pass\n",
    "\n",
    "    previous_season = soup.select(\"div.prevnext a\")[0].get(\"href\")\n",
    "    arsenal_url = f\"https://fbref.com/{previous_season}\"\n",
    "\n",
    "    for ind in range(len(all_positions)):\n",
    "\n",
    "        if ind == 0:\n",
    "            value = [\"keeper_adv\"]\n",
    "        elif ind == 1:\n",
    "            value = [\"defense\"]\n",
    "        elif ind == 2:\n",
    "            value = [\"passing\", \"possession\"]\n",
    "        elif ind == 3:\n",
    "            value = [\"shooting\", \"gca\"]\n",
    "        else:\n",
    "            Exception\n",
    "        time.sleep(2)\n",
    "        \n",
    "        d={}\n",
    "\n",
    "        for stat in value:\n",
    "            togglep90 =  WebDriverWait(driver, 20).until(EC.element_to_be_clickable((By.CSS_SELECTOR, f\"button[id*='stats_{stat}_']\")))\n",
    "            tablename = driver.find_element(By.ID, f\"all_stats_{stat}\")\n",
    "            driver.execute_script(\"arguments[0].scrollIntoView();\", tablename)\n",
    "\n",
    "            time.sleep(2)\n",
    "            togglep90.click()\n",
    "\n",
    "            page_source = BeautifulSoup(driver.page_source, 'html.parser')\n",
    "            tables = page_source.findAll('table', id=lambda x: x and x.startswith(f'stats_{stat}'))[0]\n",
    "            d[stat] = pd.read_html(str(tables))[0]\n",
    "\n",
    "        d[stat][\"Season\"] = year\n",
    "\n",
    "        if len(d) > 1:\n",
    "            all_positions[ind].append(d[value[0]].merge(d[value[1]]))\n",
    "        else:\n",
    "            all_positions[ind].append(d[value[0]])\n",
    "        \n",
    "\n",
    "driver.quit()\n"
   ]
  },
  {
   "cell_type": "code",
   "execution_count": 220,
   "metadata": {},
   "outputs": [],
   "source": [
    "GKdf = pd.concat(keepers)\n",
    "DEFdf= pd.concat(defenders)\n",
    "MIDdf = pd.concat(midfielders)\n",
    "ATTdf = pd.concat(attackers)\n",
    "\n",
    "all_df = [GKdf, DEFdf, MIDdf, ATTdf]"
   ]
  },
  {
   "cell_type": "code",
   "execution_count": 221,
   "metadata": {},
   "outputs": [],
   "source": [
    "for df in all_df:\n",
    "    df.columns = ['_'.join(col).strip() for col in df.columns.values]"
   ]
  },
  {
   "cell_type": "code",
   "execution_count": 222,
   "metadata": {},
   "outputs": [],
   "source": [
    "all_df = [GKdf, DEFdf, MIDdf, ATTdf]\n",
    "\n",
    "ATTdf = ATTdf.reset_index()\n",
    "MIDdf = MIDdf.reset_index()\n",
    "DEFdf = DEFdf.reset_index()\n",
    "GKdf = GKdf.reset_index()\n",
    "\n",
    "ATTdf = ATTdf.drop('index', axis=1)\n",
    "MIDdf = MIDdf.drop('index', axis=1)\n",
    "DEFdf = DEFdf.drop('index', axis=1)\n",
    "GKdf = GKdf.drop('index', axis=1)\n",
    "\n",
    "ATTdf = ATTdf.set_index('Unnamed: 0_level_0_Player')\n",
    "MIDdf = MIDdf.set_index('Unnamed: 0_level_0_Player')\n",
    "DEFdf = DEFdf.set_index('Unnamed: 0_level_0_Player')\n",
    "GKdf = GKdf.set_index('Unnamed: 0_level_0_Player')\n",
    "\n",
    "ATTdf = ATTdf.drop([\"Squad Total\", \"Opponent Total\"])\n",
    "MIDdf = MIDdf.drop([\"Squad Total\", \"Opponent Total\"])\n",
    "DEFdf = DEFdf.drop([\"Squad Total\", \"Opponent Total\"])\n",
    "GKdf = GKdf.drop([\"Squad Total\", \"Opponent Total\"])\n",
    "\n",
    "ATTdf = ATTdf.reset_index()\n",
    "MIDdf = MIDdf.reset_index()\n",
    "DEFdf = DEFdf.reset_index()\n",
    "GKdf = GKdf.reset_index()"
   ]
  },
  {
   "cell_type": "code",
   "execution_count": 223,
   "metadata": {},
   "outputs": [],
   "source": [
    "ATTdf = ATTdf[ATTdf[\"Unnamed: 2_level_0_Pos\"].str.contains(\"FW\")]\n",
    "MIDdf = MIDdf[MIDdf[\"Unnamed: 2_level_0_Pos\"].str.contains(\"MF\")]\n",
    "DEFdf = DEFdf[DEFdf[\"Unnamed: 2_level_0_Pos\"].str.contains(\"DF\")]\n",
    "\n",
    "\n",
    "ATTdf = ATTdf.reset_index()\n",
    "MIDdf = MIDdf.reset_index()\n",
    "DEFdf = DEFdf.reset_index()\n",
    "\n",
    "ATTdf = ATTdf.drop(\"index\", axis=1)\n",
    "MIDdf = MIDdf.drop(\"index\", axis=1)\n",
    "DEFdf = DEFdf.drop(\"index\", axis=1)\n",
    "\n",
    "\n"
   ]
  },
  {
   "cell_type": "code",
   "execution_count": 225,
   "metadata": {},
   "outputs": [],
   "source": [
    "ATTdf = ATTdf.drop([\"Unnamed: 1_level_0_Nation\", \"Unnamed: 3_level_0_Age\", \"Unnamed: 4_level_0_90s\", \"Standard_SoT\", \"Standard_SoT/90\", \n",
    "                    \"Standard_G/SoT\", \"Standard_FK\", \"Standard_PK\", \"Standard_PKatt\", \"Expected_npxG/Sh\", \"Expected_G-xG\", \"SCA_SCA\", \n",
    "                    \"SCA Types_PassLive\", \"SCA Types_PassDead\", \"SCA Types_Sh\", \"SCA Types_Fld\", \"SCA Types_Def\",\n",
    "                    \"GCA_GCA\",  \"GCA Types_PassLive\", \"GCA Types_PassDead\", \"GCA Types_TO\", \"GCA Types_Sh\", \"GCA Types_Fld\", \"GCA Types_Def\",\n",
    "                    \"Unnamed: 21_level_0_Matches\", \"Unnamed: 22_level_0_Matches\"], axis=1)\n",
    "MIDdf = MIDdf.drop([\"Unnamed: 1_level_0_Nation\", \"Unnamed: 3_level_0_Age\", \"Unnamed: 4_level_0_90s\", \"Total_TotDist\", \"Short_Cmp\", \"Short_Att\",\n",
    "                    \"Short_Cmp%\", \"Medium_Cmp\", \"Medium_Att\", \"Medium_Cmp%\", \"Long_Cmp\",\n",
    "                    \"Long_Att\", \"Long_Cmp%\", \"Unnamed: 20_level_0_xAG\", \"Expected_A-xAG\", \"Unnamed: 26_level_0_CrsPA\", \n",
    "                    \"Touches_Def Pen\", \"Touches_Def 3rd\", \"Touches_Mid 3rd\", \"Touches_Att 3rd\", \"Touches_Att Pen\", \"Touches_Live\",\n",
    "                    \"Take-Ons_Succ\", \"Take-Ons_Tkld\", \"Take-Ons_Tkld%\", \"Carries_Carries\", \"Carries_TotDist\", \"Carries_PrgDist\",\n",
    "                    \"Carries_Mis\", \"Carries_Dis\", \"Unnamed: 28_level_0_Matches\", \"Receiving_Rec\", \"Receiving_PrgR\", \"Unnamed: 27_level_0_Matches\"],\n",
    "                    axis=1)\n",
    "DEFdf = DEFdf.drop([\"Unnamed: 1_level_0_Nation\", \"Unnamed: 3_level_0_Age\", \"Unnamed: 4_level_0_90s\", \"Tackles_Att 3rd\", \"Challenges_Tkl\", \"Challenges_Att\",\n",
    "                     \"Challenges_Tkl%\", \"Challenges_Lost\", \"Blocks_Pass\", \"Unnamed: 21_level_0_Matches\"], axis=1)\n",
    "GKdf = GKdf.drop([\"Unnamed: 1_level_0_Nation\", \"Unnamed: 3_level_0_Age\", \"Unnamed: 4_level_0_90s\", \"Goals_FK\", \"Goals_OG\", \"Goal Kicks_Att\",\n",
    "                   \"Crosses_Opp\", \"Crosses_Stp\", \"Expected_/90\", \"Unnamed: 30_level_0_Matches\"], axis=1)\n"
   ]
  },
  {
   "cell_type": "code",
   "execution_count": 226,
   "metadata": {},
   "outputs": [],
   "source": [
    "ATTdf.columns = ['Player', 'Pos', 'Goals', 'Shots','SOT%', 'Sh/90', 'G/Sh', 'Dist', 'xG', 'npxG', 'np:g-xG', \n",
    "'SCA/90', 'SCA(TakeOn)', 'GCA/90', 'Season']\n",
    "\n",
    "MIDdf.columns = ['Player', 'Pos', 'PassCmp', 'PassAtt', 'PassComp%',\n",
    "'PassPrgDist', 'Assists', 'xA', 'KP', 'IntoFin1/3', 'PPA', 'ProgPass', 'Touches', 'TakeOnsAtt', 'TakeOnsSuc%',\n",
    "'PrgCar', 'Carrs1/3', 'CPA', 'Season']\n",
    "\n",
    "DEFdf.columns = ['Player', 'Pos', 'Tackles', 'TacklesWon', 'TacklesDef1/3', 'TacklesMid1/3',\n",
    "'Blocks', 'ShotsBlocked', 'Interceptions', 'Tkl+Int', 'Clearances', 'ErrorsToShot', 'Season']\n",
    "\n",
    "GKdf.columns = ['Player', 'Pos', 'GA', 'PKGA', 'CKGA' , 'PSxG', 'PSxG/SoT',\n",
    "'PSxG+/-GA', 'LaunchCmp', 'LaunchAtt', 'LaunchCmp%', 'PassesAtt', 'Throws', 'Launch%', 'AvgPassLen', 'GKLaunch%',\n",
    "'AvgGKLen', 'CrossesStop%', 'OPA', 'OPA/90', 'AvgDistActions', 'Season']"
   ]
  },
  {
   "cell_type": "code",
   "execution_count": 227,
   "metadata": {},
   "outputs": [],
   "source": [
    "GKdf.to_csv(\"C:/Users/tomas.hehir/Source/Repos/Footy/data/Arsenal/ArsenalKeepers.csv\")\n",
    "DEFdf.to_csv(\"C:/Users/tomas.hehir/Source/Repos/Footy/data/Arsenal/ArsenalDefenders.csv\")\n",
    "MIDdf.to_csv(\"C:/Users/tomas.hehir/Source/Repos/Footy/data/Arsenal/ArsenalMidfielders.csv\")\n",
    "ATTdf.to_csv(\"C:/Users/tomas.hehir/Source/Repos/Footy/data/Arsenal/ArsenalAttackers.csv\")"
   ]
  }
 ],
 "metadata": {
  "kernelspec": {
   "display_name": "Python 3",
   "language": "python",
   "name": "python3"
  },
  "language_info": {
   "codemirror_mode": {
    "name": "ipython",
    "version": 3
   },
   "file_extension": ".py",
   "mimetype": "text/x-python",
   "name": "python",
   "nbconvert_exporter": "python",
   "pygments_lexer": "ipython3",
   "version": "3.12.3"
  },
  "orig_nbformat": 4
 },
 "nbformat": 4,
 "nbformat_minor": 2
}
