{
 "cells": [
  {
   "cell_type": "code",
   "execution_count": 398,
   "metadata": {},
   "outputs": [],
   "source": [
    "import pandas as pd\n",
    "import requests\n",
    "import time\n",
    "from selenium import webdriver\n",
    "from selenium.webdriver.common.by import By\n",
    "from selenium.webdriver.chrome.options import Options\n",
    "from selenium.webdriver.support.ui import WebDriverWait\n",
    "from selenium.webdriver.support import expected_conditions as EC\n",
    "options = Options()\n",
    "options.add_argument(\"--disable-notifications\")\n",
    "options.add_argument(\"--disable-popup-blocking\")\n",
    "driver = webdriver.Chrome(options=options)"
   ]
  },
  {
   "cell_type": "code",
   "execution_count": 400,
   "metadata": {},
   "outputs": [],
   "source": [
    "arsenal_url = 'https://fbref.com/en/squads/361ca564/Tottenham-Hotspur-Stats'"
   ]
  },
  {
   "cell_type": "code",
   "execution_count": 401,
   "metadata": {},
   "outputs": [],
   "source": [
    "data = requests.get(arsenal_url)"
   ]
  },
  {
   "cell_type": "code",
   "execution_count": 402,
   "metadata": {},
   "outputs": [],
   "source": [
    "from bs4 import BeautifulSoup"
   ]
  },
  {
   "cell_type": "code",
   "execution_count": 403,
   "metadata": {},
   "outputs": [],
   "source": [
    "soup = BeautifulSoup(data.text)"
   ]
  },
  {
   "cell_type": "code",
   "execution_count": 404,
   "metadata": {},
   "outputs": [
    {
     "data": {
      "text/plain": [
       "[2024, 2023]"
      ]
     },
     "execution_count": 404,
     "metadata": {},
     "output_type": "execute_result"
    }
   ],
   "source": [
    "years = list(range(2024, 2022, -1))\n",
    "years"
   ]
  },
  {
   "cell_type": "code",
   "execution_count": 405,
   "metadata": {},
   "outputs": [
    {
     "data": {
      "text/plain": [
       "list"
      ]
     },
     "execution_count": 405,
     "metadata": {},
     "output_type": "execute_result"
    }
   ],
   "source": [
    "keepers=[]\n",
    "defenders=[]\n",
    "midfielders=[]\n",
    "attackers=[]\n",
    "all_positions = [keepers, defenders, midfielders, attackers]\n",
    "type(all_positions)\n"
   ]
  },
  {
   "cell_type": "code",
   "execution_count": 406,
   "metadata": {},
   "outputs": [
    {
     "name": "stdout",
     "output_type": "stream",
     "text": [
      "keeper_adv\n"
     ]
    },
    {
     "name": "stderr",
     "output_type": "stream",
     "text": [
      "C:\\Users\\tomas.hehir\\AppData\\Local\\Temp\\ipykernel_36376\\3302038101.py:38: FutureWarning: Passing literal html to 'read_html' is deprecated and will be removed in a future version. To read from a literal string, wrap it in a 'StringIO' object.\n",
      "  Actions = pd.read_html(str(tables))[0]\n"
     ]
    },
    {
     "name": "stdout",
     "output_type": "stream",
     "text": [
      "defense\n"
     ]
    },
    {
     "name": "stderr",
     "output_type": "stream",
     "text": [
      "C:\\Users\\tomas.hehir\\AppData\\Local\\Temp\\ipykernel_36376\\3302038101.py:38: FutureWarning: Passing literal html to 'read_html' is deprecated and will be removed in a future version. To read from a literal string, wrap it in a 'StringIO' object.\n",
      "  Actions = pd.read_html(str(tables))[0]\n"
     ]
    },
    {
     "name": "stdout",
     "output_type": "stream",
     "text": [
      "passing\n"
     ]
    },
    {
     "name": "stderr",
     "output_type": "stream",
     "text": [
      "C:\\Users\\tomas.hehir\\AppData\\Local\\Temp\\ipykernel_36376\\3302038101.py:38: FutureWarning: Passing literal html to 'read_html' is deprecated and will be removed in a future version. To read from a literal string, wrap it in a 'StringIO' object.\n",
      "  Actions = pd.read_html(str(tables))[0]\n"
     ]
    },
    {
     "name": "stdout",
     "output_type": "stream",
     "text": [
      "shooting\n"
     ]
    },
    {
     "name": "stderr",
     "output_type": "stream",
     "text": [
      "C:\\Users\\tomas.hehir\\AppData\\Local\\Temp\\ipykernel_36376\\3302038101.py:38: FutureWarning: Passing literal html to 'read_html' is deprecated and will be removed in a future version. To read from a literal string, wrap it in a 'StringIO' object.\n",
      "  Actions = pd.read_html(str(tables))[0]\n"
     ]
    },
    {
     "name": "stdout",
     "output_type": "stream",
     "text": [
      "keeper_adv\n"
     ]
    },
    {
     "name": "stderr",
     "output_type": "stream",
     "text": [
      "C:\\Users\\tomas.hehir\\AppData\\Local\\Temp\\ipykernel_36376\\3302038101.py:38: FutureWarning: Passing literal html to 'read_html' is deprecated and will be removed in a future version. To read from a literal string, wrap it in a 'StringIO' object.\n",
      "  Actions = pd.read_html(str(tables))[0]\n"
     ]
    },
    {
     "name": "stdout",
     "output_type": "stream",
     "text": [
      "defense\n"
     ]
    },
    {
     "name": "stderr",
     "output_type": "stream",
     "text": [
      "C:\\Users\\tomas.hehir\\AppData\\Local\\Temp\\ipykernel_36376\\3302038101.py:38: FutureWarning: Passing literal html to 'read_html' is deprecated and will be removed in a future version. To read from a literal string, wrap it in a 'StringIO' object.\n",
      "  Actions = pd.read_html(str(tables))[0]\n"
     ]
    },
    {
     "name": "stdout",
     "output_type": "stream",
     "text": [
      "passing\n"
     ]
    },
    {
     "name": "stderr",
     "output_type": "stream",
     "text": [
      "C:\\Users\\tomas.hehir\\AppData\\Local\\Temp\\ipykernel_36376\\3302038101.py:38: FutureWarning: Passing literal html to 'read_html' is deprecated and will be removed in a future version. To read from a literal string, wrap it in a 'StringIO' object.\n",
      "  Actions = pd.read_html(str(tables))[0]\n"
     ]
    },
    {
     "name": "stdout",
     "output_type": "stream",
     "text": [
      "shooting\n"
     ]
    },
    {
     "name": "stderr",
     "output_type": "stream",
     "text": [
      "C:\\Users\\tomas.hehir\\AppData\\Local\\Temp\\ipykernel_36376\\3302038101.py:38: FutureWarning: Passing literal html to 'read_html' is deprecated and will be removed in a future version. To read from a literal string, wrap it in a 'StringIO' object.\n",
      "  Actions = pd.read_html(str(tables))[0]\n"
     ]
    }
   ],
   "source": [
    "for year in years:\n",
    "    driver.get(arsenal_url)    \n",
    "    time.sleep(2)\n",
    "\n",
    "    try:\n",
    "        driver.find_element(By.CSS_SELECTOR, 'button[mode=primary]').click()\n",
    "    except Exception:\n",
    "        pass\n",
    "\n",
    "    previous_season = soup.select(\"div.prevnext a\")[0].get(\"href\")\n",
    "    arsenal_url = f\"https://fbref.com/{previous_season}\"\n",
    "\n",
    "    for position in all_positions:\n",
    "        value = \"\"\n",
    "        if position == keepers:\n",
    "            value = \"keeper_adv\"\n",
    "        elif position == defenders:\n",
    "            value = \"defense\"\n",
    "        elif position == midfielders:\n",
    "            value = \"passing\"\n",
    "        elif position == attackers:\n",
    "            value = \"shooting\"\n",
    "        else:\n",
    "            value = \"keeper\"\n",
    "        time.sleep(2)\n",
    "\n",
    "        print(value)\n",
    "\n",
    "        togglep90 =  WebDriverWait(driver, 20).until(EC.element_to_be_clickable((By.CSS_SELECTOR, f\"button[id*='stats_{value}_']\")))\n",
    "        tablename = driver.find_element(By.ID, f\"all_stats_{value}\")\n",
    "        driver.execute_script(\"arguments[0].scrollIntoView();\", tablename)\n",
    "\n",
    "        time.sleep(2)\n",
    "        togglep90.click()\n",
    "\n",
    "        page_source = BeautifulSoup(driver.page_source, 'html.parser')\n",
    "        tables = page_source.findAll('table', id=lambda x: x and x.startswith(f'stats_{value}'))[0]\n",
    "        Actions = pd.read_html(str(tables))[0]\n",
    "        Actions[\"Season\"] = year #adding season column\n",
    "        position.append(Actions)\n",
    "\n",
    "driver.quit()\n"
   ]
  },
  {
   "cell_type": "code",
   "execution_count": 407,
   "metadata": {},
   "outputs": [],
   "source": [
    "GKdf = pd.concat(keepers)\n",
    "DEFdf= pd.concat(defenders)\n",
    "MIDdf = pd.concat(midfielders)\n",
    "ATTdf = pd.concat(attackers)\n",
    "\n",
    "all_df = [GKdf, DEFdf, MIDdf, ATTdf]"
   ]
  },
  {
   "cell_type": "code",
   "execution_count": 408,
   "metadata": {},
   "outputs": [],
   "source": [
    "for df in all_df:\n",
    "    df.columns = ['_'.join(col).strip() for col in df.columns.values]"
   ]
  },
  {
   "cell_type": "code",
   "execution_count": 409,
   "metadata": {},
   "outputs": [],
   "source": [
    "all_df = [GKdf, DEFdf, MIDdf, ATTdf]\n",
    "\n",
    "ATTdf = ATTdf.reset_index()\n",
    "MIDdf = MIDdf.reset_index()\n",
    "DEFdf = DEFdf.reset_index()\n",
    "GKdf = GKdf.reset_index()\n",
    "\n",
    "ATTdf = ATTdf.drop('index', axis=1)\n",
    "MIDdf = MIDdf.drop('index', axis=1)\n",
    "DEFdf = DEFdf.drop('index', axis=1)\n",
    "GKdf = GKdf.drop('index', axis=1)\n",
    "\n",
    "ATTdf = ATTdf.set_index('Unnamed: 0_level_0_Player')\n",
    "MIDdf = MIDdf.set_index('Unnamed: 0_level_0_Player')\n",
    "DEFdf = DEFdf.set_index('Unnamed: 0_level_0_Player')\n",
    "GKdf = GKdf.set_index('Unnamed: 0_level_0_Player')\n",
    "\n",
    "ATTdf = ATTdf.drop([\"Squad Total\", \"Opponent Total\"])\n",
    "MIDdf = MIDdf.drop([\"Squad Total\", \"Opponent Total\"])\n",
    "DEFdf = DEFdf.drop([\"Squad Total\", \"Opponent Total\"])\n",
    "GKdf = GKdf.drop([\"Squad Total\", \"Opponent Total\"])\n",
    "\n",
    "ATTdf = ATTdf.reset_index()\n",
    "MIDdf = MIDdf.reset_index()\n",
    "DEFdf = DEFdf.reset_index()\n",
    "GKdf = GKdf.reset_index()"
   ]
  },
  {
   "cell_type": "code",
   "execution_count": 410,
   "metadata": {},
   "outputs": [],
   "source": [
    "ATTdf = ATTdf[ATTdf[\"Unnamed: 2_level_0_Pos\"].str.contains(\"FW\")]\n",
    "MIDdf = MIDdf[MIDdf[\"Unnamed: 2_level_0_Pos\"].str.contains(\"MF\")]\n",
    "DEFdf = DEFdf[DEFdf[\"Unnamed: 2_level_0_Pos\"].str.contains(\"DF\")]\n",
    "\n",
    "\n",
    "ATTdf = ATTdf.reset_index()\n",
    "MIDdf = MIDdf.reset_index()\n",
    "DEFdf = DEFdf.reset_index()\n",
    "\n",
    "ATTdf = ATTdf.drop(\"index\", axis=1)\n",
    "MIDdf = MIDdf.drop(\"index\", axis=1)\n",
    "DEFdf = DEFdf.drop(\"index\", axis=1)\n",
    "\n",
    "\n"
   ]
  },
  {
   "cell_type": "code",
   "execution_count": 411,
   "metadata": {},
   "outputs": [],
   "source": [
    "ATTdf = ATTdf.drop('Unnamed: 22_level_0_Matches', axis=1)\n",
    "MIDdf = MIDdf.drop('Unnamed: 28_level_0_Matches', axis=1)\n",
    "DEFdf = DEFdf.drop([\"Challenges_Tkl\", \"Challenges_Att\", \"Challenges_Tkl%\", \"Challenges_Lost\", \"Unnamed: 21_level_0_Matches\"], axis=1)\n",
    "GKdf = GKdf.drop([\"Goals_FK\", \"Goal Kicks_Att\", \"Crosses_Opp\", \"Crosses_Stp\", \"Expected_/90\", \"Unnamed: 30_level_0_Matches\"], axis=1)\n"
   ]
  },
  {
   "cell_type": "code",
   "execution_count": 412,
   "metadata": {},
   "outputs": [
    {
     "data": {
      "text/plain": [
       "Index(['Unnamed: 0_level_0_Player', 'Unnamed: 1_level_0_Nation',\n",
       "       'Unnamed: 2_level_0_Pos', 'Unnamed: 3_level_0_Age',\n",
       "       'Unnamed: 4_level_0_90s', 'Goals_GA', 'Goals_PKA', 'Goals_CK',\n",
       "       'Goals_OG', 'Expected_PSxG', 'Expected_PSxG/SoT', 'Expected_PSxG+/-',\n",
       "       'Launched_Cmp', 'Launched_Att', 'Launched_Cmp%', 'Passes_Att (GK)',\n",
       "       'Passes_Thr', 'Passes_Launch%', 'Passes_AvgLen', 'Goal Kicks_Launch%',\n",
       "       'Goal Kicks_AvgLen', 'Crosses_Stp%', 'Sweeper_#OPA', 'Sweeper_#OPA/90',\n",
       "       'Sweeper_AvgDist', 'Season_'],\n",
       "      dtype='object')"
      ]
     },
     "execution_count": 412,
     "metadata": {},
     "output_type": "execute_result"
    }
   ],
   "source": [
    "GKdf.columns"
   ]
  },
  {
   "cell_type": "code",
   "execution_count": 413,
   "metadata": {},
   "outputs": [],
   "source": [
    "ATTdf.columns = ['Player', 'Nation', 'Position', 'Age', '90s', 'Goals', 'Shots', 'SOT',\n",
    "'SOT%', 'Sh/90', 'SOT/90', 'G/Sh', 'G/SOT', 'Dist', 'FK', 'PK', 'PKatt', 'xG', 'npxG', 'npXg/Sh', \n",
    "'G-xG', 'np:g-xG', 'Season']\n",
    "\n",
    "MIDdf.columns = ['Player', 'Nation', 'Position', 'Age', '90s', 'PassCmp', 'PassAtt', 'PassComp%',\n",
    "'PassTotDist', 'PassPrgDist', 'ShortPassCmp', 'ShortPassAtt', 'ShortPassCmp%', 'MediumPassCmp', 'MediumPassAtt', 'MediumPassCmp%',\n",
    "'LongPassCmp', 'LongPassAtt', 'LongPassCmp%','Assists', 'xAG', 'xAssists', 'A-xAG', 'KeyPass', 'IntoFin1/3', 'PassPenArea',\n",
    "'Crosses', 'ProgPass', 'Season']\n",
    "\n",
    "DEFdf.columns = ['Player', 'Nation', 'Position', 'Age', '90s', 'Tackles', 'TacklesWon', 'TacklesDef1/3', 'TacklesMid1/3', 'TacklesAtt1/3',\n",
    "'Blocks', 'ShotsBlocked', 'PassesBlocked', 'Interceptions', 'Tkl+Int', 'Clearances', 'ErrorsToShot', 'Season']\n",
    "\n",
    "GKdf.columns = ['Player', 'Nation', 'Position', 'Age', '90s', 'GA', 'PKGA', 'CKGA' ,'OG', 'PSxG', 'PSxG/SoT',\n",
    "'PSxG+/-GA', 'LaunchCmp', 'LaunchAtt', 'LaunchCmp%', 'PassesAtt', 'ThrowsAtt', 'Launch%', 'AvgPassLen', 'GKLaunch%',\n",
    "'AvgGKLen', 'CrossesStop%', 'OPA', 'OPA/90', 'AvgDistActions', 'Season']"
   ]
  },
  {
   "cell_type": "code",
   "execution_count": 414,
   "metadata": {},
   "outputs": [
    {
     "data": {
      "text/html": [
       "<div>\n",
       "<style scoped>\n",
       "    .dataframe tbody tr th:only-of-type {\n",
       "        vertical-align: middle;\n",
       "    }\n",
       "\n",
       "    .dataframe tbody tr th {\n",
       "        vertical-align: top;\n",
       "    }\n",
       "\n",
       "    .dataframe thead th {\n",
       "        text-align: right;\n",
       "    }\n",
       "</style>\n",
       "<table border=\"1\" class=\"dataframe\">\n",
       "  <thead>\n",
       "    <tr style=\"text-align: right;\">\n",
       "      <th></th>\n",
       "      <th>Player</th>\n",
       "      <th>Nation</th>\n",
       "      <th>Position</th>\n",
       "      <th>Age</th>\n",
       "      <th>90s</th>\n",
       "      <th>GA</th>\n",
       "      <th>PKGA</th>\n",
       "      <th>CKGA</th>\n",
       "      <th>OG</th>\n",
       "      <th>PSxG</th>\n",
       "      <th>...</th>\n",
       "      <th>ThrowsAtt</th>\n",
       "      <th>Launch%</th>\n",
       "      <th>AvgPassLen</th>\n",
       "      <th>GKLaunch%</th>\n",
       "      <th>AvgGKLen</th>\n",
       "      <th>CrossesStop%</th>\n",
       "      <th>OutsidePenActions</th>\n",
       "      <th>OutsidePenActions/90</th>\n",
       "      <th>AvgDistActions</th>\n",
       "      <th>Season</th>\n",
       "    </tr>\n",
       "  </thead>\n",
       "  <tbody>\n",
       "    <tr>\n",
       "      <th>0</th>\n",
       "      <td>Guglielmo Vicario</td>\n",
       "      <td>it ITA</td>\n",
       "      <td>GK</td>\n",
       "      <td>27-216</td>\n",
       "      <td>35.0</td>\n",
       "      <td>1.66</td>\n",
       "      <td>0.17</td>\n",
       "      <td>0.23</td>\n",
       "      <td>0.09</td>\n",
       "      <td>1.62</td>\n",
       "      <td>...</td>\n",
       "      <td>5.17</td>\n",
       "      <td>15.0</td>\n",
       "      <td>24.4</td>\n",
       "      <td>14.8</td>\n",
       "      <td>22.1</td>\n",
       "      <td>6.1</td>\n",
       "      <td>2.23</td>\n",
       "      <td>2.23</td>\n",
       "      <td>17.3</td>\n",
       "      <td>2024</td>\n",
       "    </tr>\n",
       "    <tr>\n",
       "      <th>1</th>\n",
       "      <td>Hugo Lloris</td>\n",
       "      <td>fr FRA</td>\n",
       "      <td>GK</td>\n",
       "      <td>35.0</td>\n",
       "      <td>24.5</td>\n",
       "      <td>1.59</td>\n",
       "      <td>0.04</td>\n",
       "      <td>0.12</td>\n",
       "      <td>0.04</td>\n",
       "      <td>1.38</td>\n",
       "      <td>...</td>\n",
       "      <td>4.45</td>\n",
       "      <td>31.7</td>\n",
       "      <td>31.4</td>\n",
       "      <td>25.3</td>\n",
       "      <td>25.8</td>\n",
       "      <td>6.2</td>\n",
       "      <td>1.18</td>\n",
       "      <td>1.18</td>\n",
       "      <td>13.7</td>\n",
       "      <td>2023</td>\n",
       "    </tr>\n",
       "    <tr>\n",
       "      <th>2</th>\n",
       "      <td>Fraser Forster</td>\n",
       "      <td>eng ENG</td>\n",
       "      <td>GK</td>\n",
       "      <td>34.0</td>\n",
       "      <td>13.5</td>\n",
       "      <td>1.78</td>\n",
       "      <td>0.15</td>\n",
       "      <td>0.30</td>\n",
       "      <td>0.00</td>\n",
       "      <td>1.58</td>\n",
       "      <td>...</td>\n",
       "      <td>5.26</td>\n",
       "      <td>29.0</td>\n",
       "      <td>30.2</td>\n",
       "      <td>49.5</td>\n",
       "      <td>37.6</td>\n",
       "      <td>2.6</td>\n",
       "      <td>1.19</td>\n",
       "      <td>1.19</td>\n",
       "      <td>15.2</td>\n",
       "      <td>2023</td>\n",
       "    </tr>\n",
       "  </tbody>\n",
       "</table>\n",
       "<p>3 rows × 26 columns</p>\n",
       "</div>"
      ],
      "text/plain": [
       "              Player   Nation Position     Age   90s    GA  PKGA  CKGA    OG  \\\n",
       "0  Guglielmo Vicario   it ITA       GK  27-216  35.0  1.66  0.17  0.23  0.09   \n",
       "1        Hugo Lloris   fr FRA       GK    35.0  24.5  1.59  0.04  0.12  0.04   \n",
       "2     Fraser Forster  eng ENG       GK    34.0  13.5  1.78  0.15  0.30  0.00   \n",
       "\n",
       "   PSxG  ...  ThrowsAtt  Launch%  AvgPassLen  GKLaunch%  AvgGKLen  \\\n",
       "0  1.62  ...       5.17     15.0        24.4       14.8      22.1   \n",
       "1  1.38  ...       4.45     31.7        31.4       25.3      25.8   \n",
       "2  1.58  ...       5.26     29.0        30.2       49.5      37.6   \n",
       "\n",
       "   CrossesStop%  OutsidePenActions  OutsidePenActions/90  AvgDistActions  \\\n",
       "0           6.1               2.23                  2.23            17.3   \n",
       "1           6.2               1.18                  1.18            13.7   \n",
       "2           2.6               1.19                  1.19            15.2   \n",
       "\n",
       "   Season  \n",
       "0    2024  \n",
       "1    2023  \n",
       "2    2023  \n",
       "\n",
       "[3 rows x 26 columns]"
      ]
     },
     "execution_count": 414,
     "metadata": {},
     "output_type": "execute_result"
    }
   ],
   "source": [
    "GKdf"
   ]
  },
  {
   "cell_type": "code",
   "execution_count": 415,
   "metadata": {},
   "outputs": [],
   "source": [
    "GKdf.to_csv(\"SpursKeepers.csv\")\n",
    "DEFdf.to_csv(\"SpursDefenders.csv\")\n",
    "MIDdf.to_csv(\"SpursMidfielders.csv\")\n",
    "ATTdf.to_csv(\"SpursAttackers.csv\")"
   ]
  },
  {
   "cell_type": "code",
   "execution_count": null,
   "metadata": {},
   "outputs": [],
   "source": []
  }
 ],
 "metadata": {
  "kernelspec": {
   "display_name": "Python 3",
   "language": "python",
   "name": "python3"
  },
  "language_info": {
   "codemirror_mode": {
    "name": "ipython",
    "version": 3
   },
   "file_extension": ".py",
   "mimetype": "text/x-python",
   "name": "python",
   "nbconvert_exporter": "python",
   "pygments_lexer": "ipython3",
   "version": "3.12.3"
  },
  "orig_nbformat": 4
 },
 "nbformat": 4,
 "nbformat_minor": 2
}
